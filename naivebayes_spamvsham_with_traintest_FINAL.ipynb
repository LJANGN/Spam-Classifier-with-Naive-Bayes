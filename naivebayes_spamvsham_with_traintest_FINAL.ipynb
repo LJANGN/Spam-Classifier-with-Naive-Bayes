{
 "cells": [
  {
   "cell_type": "markdown",
   "metadata": {
    "collapsed": true,
    "deletable": true,
    "editable": true
   },
   "source": [
    "### A Spam Classifier based on Naive Bayes "
   ]
  },
  {
   "cell_type": "markdown",
   "metadata": {
    "deletable": true,
    "editable": true
   },
   "source": [
    "We are using **sklearn.naive_bayes** to train a spam classifier! We use a set of emails containing ham and spam to build and train our model. The data is rather limited, only 3000 emails, with two sets pregrouped into spam, 500 emails, and ham, 2500 emails.<br><br>\n",
    "Sources:<br> http://cswww.essex.ac.uk/staff/poesio/Teach/807/Labs/Lab3/data/easy_ham/<br>\n",
    "http://cswww.essex.ac.uk/staff/poesio/Teach/807/Labs/Lab3/data/spam/<br><br>\n",
    "The method is called *naive* because we're asuming there's no relationships between the words themselves. We're looking at each word in isolation, individually within a message, and basically combining all the probabilities of each word's contribution to being spam or not. A better spam classifier would obviously be looking at the relationships between the words.<br>\n",
    "<br>The analysis consists of the following steps.\n",
    "-  I. Importing necessary libraries \n",
    "- II. Finding the files in the directory and separating the message part in each email\n",
    "- III. Creating two directories; one for spam, one for ham\n",
    "- IV. Adding a column to the dataframes showing the length in number of words of each email\n",
    "- V. Viewing the data in three data frames; all emails, spam and ham\n",
    "- VI. Separating the data into Train and Test sets and looking at the results with various splits 80/20, 70/30, 60/40 and 10/90\n",
    "- VII. Viewing the sizes of the emails in histograms\n",
    "- VIII. Viewing at the statistics of the different data sets\n",
    "- IX. Conclusions"
   ]
  },
  {
   "cell_type": "code",
   "execution_count": 2,
   "metadata": {
    "collapsed": false,
    "deletable": true,
    "editable": true
   },
   "outputs": [
    {
     "name": "stderr",
     "output_type": "stream",
     "text": [
      "C:\\Users\\jangn\\AppData\\Local\\Enthought\\Canopy\\edm\\envs\\User\\lib\\site-packages\\sklearn\\cross_validation.py:44: DeprecationWarning: This module was deprecated in version 0.18 in favor of the model_selection module into which all the refactored classes and functions are moved. Also note that the interface of the new CV iterators are different from that of this module. This module will be removed in 0.20.\n",
      "  \"This module will be removed in 0.20.\", DeprecationWarning)\n"
     ]
    }
   ],
   "source": [
    "%matplotlib inline \n",
    "import os\n",
    "import io\n",
    "import numpy\n",
    "import pandas as pd\n",
    "from statistics import mean #for mean\n",
    "from pandas import DataFrame\n",
    "from sklearn.feature_extraction.text import CountVectorizer\n",
    "from sklearn.naive_bayes import MultinomialNB\n",
    "from sklearn.cross_validation import train_test_split\n",
    "import matplotlib.pyplot as plt\n",
    "\n",
    "#Import statistics as this will be used calulating the averages of the predictions with diff. Train/Tests"
   ]
  },
  {
   "cell_type": "markdown",
   "metadata": {
    "deletable": true,
    "editable": true
   },
   "source": [
    "The *readFiles* function uses *os.walk(path)* to find all the files in the directory. Then, starting from line *inBody = False*  a pathname is built for each individual file in that directory. The line *elif line ==  '\\n:* ensures we view the actual message in each email, starting after the first empty line."
   ]
  },
  {
   "cell_type": "code",
   "execution_count": 3,
   "metadata": {
    "collapsed": true,
    "deletable": true,
    "editable": true
   },
   "outputs": [],
   "source": [
    "def readFiles(path):\n",
    "    for root, dirnames, filenames in os.walk(path): \n",
    "        #os.walk(path) finds all the files in the directory. os.walk() is a built-in function generating the file names in a directory tree\n",
    "        \n",
    "        for filename in filenames:\n",
    "            path = os.path.join(root, filename)\n",
    "            \n",
    "            #The following 11 lines of code build a pathname for each file and reads it in: message+path\n",
    "            inBody = False \n",
    "            lines = []\n",
    "            f = io.open(path, 'r', encoding='latin1')\n",
    "            for line in f:\n",
    "                if inBody:\n",
    "                    lines.append(line)\n",
    "                elif line == '\\n': #Shows that the actual message starts after the first empty line\n",
    "                    inBody = True\n",
    "            f.close()\n",
    "            message = '\\n'.join(lines)\n",
    "            yield path, message"
   ]
  },
  {
   "cell_type": "markdown",
   "metadata": {
    "deletable": true,
    "editable": true
   },
   "source": [
    "The *dataFrameFromDirectory* function below creates a dictionary with the *Message* as the *Keys* and its *Classification* as the *Values*. \n",
    "We then call two methods *append()* and *dataFrameFromDirectory* to throw into the DataFrame all the spam from the spam folder and al the ham from the ham folder."
   ]
  },
  {
   "cell_type": "code",
   "execution_count": 4,
   "metadata": {
    "collapsed": false,
    "deletable": true,
    "editable": true
   },
   "outputs": [],
   "source": [
    "def dataFrameFromDirectory(path, classification):\n",
    "    rows = []\n",
    "    index = []\n",
    "    for filename, message in readFiles(path):\n",
    "        rows.append({'message': message, 'class': classification})\n",
    "        index.append(filename)\n",
    "\n",
    "    return DataFrame(rows, index=index)\n",
    "\n",
    "data = DataFrame({'message': [], 'class': []}) \n",
    "#Creates a dictionary containing the message itself and its class, spam or ham\n",
    "\n",
    "data = data.append(dataFrameFromDirectory('c:/Users/jangn/CODE/Sundog_DataScience/DataScience/DataScience-Python3/emails/spam', 'spam'))\n",
    "data = data.append(dataFrameFromDirectory('c:/Users/jangn/CODE/sundog_DataScience/DataScience/DataScience-Python3/emails/ham', 'ham'))\n",
    "#The two methods above - append and dataFrameFromDirectory - throw into the DataFrame all spams and hams from the folders \n",
    "\n",
    "spam_emails = DataFrame({'message': [], 'class': []})\n",
    "spam_emails = spam_emails.append(dataFrameFromDirectory('c:/Users/jangn/CODE/Sundog_DataScience/DataScience/DataScience-Python3/emails/spam', 'spam'))\n",
    "\n",
    "ham_emails = DataFrame({'message': [], 'class': []})\n",
    "ham_emails = ham_emails.append(dataFrameFromDirectory('c:/Users/jangn/CODE/sundog_DataScience/DataScience/DataScience-Python3/emails/ham', 'ham'))"
   ]
  },
  {
   "cell_type": "markdown",
   "metadata": {
    "deletable": true,
    "editable": true
   },
   "source": [
    "Next, we add a new column 'length' to the dataframe, enabling us to make various comparison graphs of the emails' contents. "
   ]
  },
  {
   "cell_type": "code",
   "execution_count": 5,
   "metadata": {
    "collapsed": true,
    "deletable": true,
    "editable": true
   },
   "outputs": [],
   "source": [
    "data.groupby('message').describe()\n",
    "#Groups the data by the 'message' column\n",
    "\n",
    "data['length'] = data['message'].map(lambda text: len(text)) \n",
    "#adds column 'length' to the DataFrame. \n",
    "#A lambda definition can be put anywhere a function is expected. It doesn't need to be assigned to a variable.\n",
    "\n",
    "spam_emails.groupby('message').describe()\n",
    "spam_emails['length'] = spam_emails['message'].map(lambda text: len(text))\n",
    "\n",
    "ham_emails.groupby('message').describe()\n",
    "ham_emails['length'] = ham_emails['message'].map(lambda text: len(text))"
   ]
  },
  {
   "cell_type": "markdown",
   "metadata": {
    "deletable": true,
    "editable": true
   },
   "source": [
    "Next, we look at the dataframes for the entire data set, the spam data and the ham data."
   ]
  },
  {
   "cell_type": "code",
   "execution_count": 6,
   "metadata": {
    "collapsed": false,
    "deletable": true,
    "editable": true
   },
   "outputs": [
    {
     "data": {
      "text/html": [
       "<div>\n",
       "<table border=\"1\" class=\"dataframe\">\n",
       "  <thead>\n",
       "    <tr style=\"text-align: right;\">\n",
       "      <th></th>\n",
       "      <th>class</th>\n",
       "      <th>message</th>\n",
       "      <th>length</th>\n",
       "    </tr>\n",
       "  </thead>\n",
       "  <tbody>\n",
       "    <tr>\n",
       "      <th>c:/Users/jangn/CODE/Sundog_DataScience/DataScience/DataScience-Python3/emails/spam\\00001.7848dde101aa985090474a91ec93fcf0</th>\n",
       "      <td>spam</td>\n",
       "      <td>&lt;!DOCTYPE HTML PUBLIC \"-//W3C//DTD HTML 4.0 Tr...</td>\n",
       "      <td>3966</td>\n",
       "    </tr>\n",
       "    <tr>\n",
       "      <th>c:/Users/jangn/CODE/Sundog_DataScience/DataScience/DataScience-Python3/emails/spam\\00002.d94f1b97e48ed3b553b3508d116e6a09</th>\n",
       "      <td>spam</td>\n",
       "      <td>1) Fight The Risk of Cancer!\\n\\nhttp://www.adc...</td>\n",
       "      <td>820</td>\n",
       "    </tr>\n",
       "    <tr>\n",
       "      <th>c:/Users/jangn/CODE/Sundog_DataScience/DataScience/DataScience-Python3/emails/spam\\00003.2ee33bc6eacdb11f38d052c44819ba6c</th>\n",
       "      <td>spam</td>\n",
       "      <td>1) Fight The Risk of Cancer!\\n\\nhttp://www.adc...</td>\n",
       "      <td>669</td>\n",
       "    </tr>\n",
       "    <tr>\n",
       "      <th>c:/Users/jangn/CODE/Sundog_DataScience/DataScience/DataScience-Python3/emails/spam\\00004.eac8de8d759b7e74154f142194282724</th>\n",
       "      <td>spam</td>\n",
       "      <td>##############################################...</td>\n",
       "      <td>3004</td>\n",
       "    </tr>\n",
       "    <tr>\n",
       "      <th>c:/Users/jangn/CODE/Sundog_DataScience/DataScience/DataScience-Python3/emails/spam\\00005.57696a39d7d84318ce497886896bf90d</th>\n",
       "      <td>spam</td>\n",
       "      <td>I thought you might like these:\\n\\n1) Slim Dow...</td>\n",
       "      <td>687</td>\n",
       "    </tr>\n",
       "  </tbody>\n",
       "</table>\n",
       "</div>"
      ],
      "text/plain": [
       "                                                   class  \\\n",
       "c:/Users/jangn/CODE/Sundog_DataScience/DataScie...  spam   \n",
       "c:/Users/jangn/CODE/Sundog_DataScience/DataScie...  spam   \n",
       "c:/Users/jangn/CODE/Sundog_DataScience/DataScie...  spam   \n",
       "c:/Users/jangn/CODE/Sundog_DataScience/DataScie...  spam   \n",
       "c:/Users/jangn/CODE/Sundog_DataScience/DataScie...  spam   \n",
       "\n",
       "                                                                                              message  \\\n",
       "c:/Users/jangn/CODE/Sundog_DataScience/DataScie...  <!DOCTYPE HTML PUBLIC \"-//W3C//DTD HTML 4.0 Tr...   \n",
       "c:/Users/jangn/CODE/Sundog_DataScience/DataScie...  1) Fight The Risk of Cancer!\\n\\nhttp://www.adc...   \n",
       "c:/Users/jangn/CODE/Sundog_DataScience/DataScie...  1) Fight The Risk of Cancer!\\n\\nhttp://www.adc...   \n",
       "c:/Users/jangn/CODE/Sundog_DataScience/DataScie...  ##############################################...   \n",
       "c:/Users/jangn/CODE/Sundog_DataScience/DataScie...  I thought you might like these:\\n\\n1) Slim Dow...   \n",
       "\n",
       "                                                    length  \n",
       "c:/Users/jangn/CODE/Sundog_DataScience/DataScie...    3966  \n",
       "c:/Users/jangn/CODE/Sundog_DataScience/DataScie...     820  \n",
       "c:/Users/jangn/CODE/Sundog_DataScience/DataScie...     669  \n",
       "c:/Users/jangn/CODE/Sundog_DataScience/DataScie...    3004  \n",
       "c:/Users/jangn/CODE/Sundog_DataScience/DataScie...     687  "
      ]
     },
     "execution_count": 6,
     "metadata": {},
     "output_type": "execute_result"
    }
   ],
   "source": [
    "data.head()\n",
    "#data.sort_values(by = ['class', 'length'], ascending = True)"
   ]
  },
  {
   "cell_type": "code",
   "execution_count": 7,
   "metadata": {
    "collapsed": false,
    "deletable": true,
    "editable": true
   },
   "outputs": [
    {
     "data": {
      "text/html": [
       "<div>\n",
       "<table border=\"1\" class=\"dataframe\">\n",
       "  <thead>\n",
       "    <tr style=\"text-align: right;\">\n",
       "      <th></th>\n",
       "      <th>class</th>\n",
       "      <th>message</th>\n",
       "      <th>length</th>\n",
       "    </tr>\n",
       "  </thead>\n",
       "  <tbody>\n",
       "    <tr>\n",
       "      <th>c:/Users/jangn/CODE/Sundog_DataScience/DataScience/DataScience-Python3/emails/spam\\00001.7848dde101aa985090474a91ec93fcf0</th>\n",
       "      <td>spam</td>\n",
       "      <td>&lt;!DOCTYPE HTML PUBLIC \"-//W3C//DTD HTML 4.0 Tr...</td>\n",
       "      <td>3966</td>\n",
       "    </tr>\n",
       "    <tr>\n",
       "      <th>c:/Users/jangn/CODE/Sundog_DataScience/DataScience/DataScience-Python3/emails/spam\\00002.d94f1b97e48ed3b553b3508d116e6a09</th>\n",
       "      <td>spam</td>\n",
       "      <td>1) Fight The Risk of Cancer!\\n\\nhttp://www.adc...</td>\n",
       "      <td>820</td>\n",
       "    </tr>\n",
       "    <tr>\n",
       "      <th>c:/Users/jangn/CODE/Sundog_DataScience/DataScience/DataScience-Python3/emails/spam\\00003.2ee33bc6eacdb11f38d052c44819ba6c</th>\n",
       "      <td>spam</td>\n",
       "      <td>1) Fight The Risk of Cancer!\\n\\nhttp://www.adc...</td>\n",
       "      <td>669</td>\n",
       "    </tr>\n",
       "    <tr>\n",
       "      <th>c:/Users/jangn/CODE/Sundog_DataScience/DataScience/DataScience-Python3/emails/spam\\00004.eac8de8d759b7e74154f142194282724</th>\n",
       "      <td>spam</td>\n",
       "      <td>##############################################...</td>\n",
       "      <td>3004</td>\n",
       "    </tr>\n",
       "    <tr>\n",
       "      <th>c:/Users/jangn/CODE/Sundog_DataScience/DataScience/DataScience-Python3/emails/spam\\00005.57696a39d7d84318ce497886896bf90d</th>\n",
       "      <td>spam</td>\n",
       "      <td>I thought you might like these:\\n\\n1) Slim Dow...</td>\n",
       "      <td>687</td>\n",
       "    </tr>\n",
       "  </tbody>\n",
       "</table>\n",
       "</div>"
      ],
      "text/plain": [
       "                                                   class  \\\n",
       "c:/Users/jangn/CODE/Sundog_DataScience/DataScie...  spam   \n",
       "c:/Users/jangn/CODE/Sundog_DataScience/DataScie...  spam   \n",
       "c:/Users/jangn/CODE/Sundog_DataScience/DataScie...  spam   \n",
       "c:/Users/jangn/CODE/Sundog_DataScience/DataScie...  spam   \n",
       "c:/Users/jangn/CODE/Sundog_DataScience/DataScie...  spam   \n",
       "\n",
       "                                                                                              message  \\\n",
       "c:/Users/jangn/CODE/Sundog_DataScience/DataScie...  <!DOCTYPE HTML PUBLIC \"-//W3C//DTD HTML 4.0 Tr...   \n",
       "c:/Users/jangn/CODE/Sundog_DataScience/DataScie...  1) Fight The Risk of Cancer!\\n\\nhttp://www.adc...   \n",
       "c:/Users/jangn/CODE/Sundog_DataScience/DataScie...  1) Fight The Risk of Cancer!\\n\\nhttp://www.adc...   \n",
       "c:/Users/jangn/CODE/Sundog_DataScience/DataScie...  ##############################################...   \n",
       "c:/Users/jangn/CODE/Sundog_DataScience/DataScie...  I thought you might like these:\\n\\n1) Slim Dow...   \n",
       "\n",
       "                                                    length  \n",
       "c:/Users/jangn/CODE/Sundog_DataScience/DataScie...    3966  \n",
       "c:/Users/jangn/CODE/Sundog_DataScience/DataScie...     820  \n",
       "c:/Users/jangn/CODE/Sundog_DataScience/DataScie...     669  \n",
       "c:/Users/jangn/CODE/Sundog_DataScience/DataScie...    3004  \n",
       "c:/Users/jangn/CODE/Sundog_DataScience/DataScie...     687  "
      ]
     },
     "execution_count": 7,
     "metadata": {},
     "output_type": "execute_result"
    }
   ],
   "source": [
    "spam_emails.head()\n",
    "#spam_emails.sort_values(by = ['class', 'length'], ascending = True)"
   ]
  },
  {
   "cell_type": "code",
   "execution_count": 8,
   "metadata": {
    "collapsed": false,
    "deletable": true,
    "editable": true
   },
   "outputs": [
    {
     "data": {
      "text/html": [
       "<div>\n",
       "<table border=\"1\" class=\"dataframe\">\n",
       "  <thead>\n",
       "    <tr style=\"text-align: right;\">\n",
       "      <th></th>\n",
       "      <th>class</th>\n",
       "      <th>message</th>\n",
       "      <th>length</th>\n",
       "    </tr>\n",
       "  </thead>\n",
       "  <tbody>\n",
       "    <tr>\n",
       "      <th>c:/Users/jangn/CODE/sundog_DataScience/DataScience/DataScience-Python3/emails/ham\\00001.7c53336b37003a9286aba55d2945844c</th>\n",
       "      <td>ham</td>\n",
       "      <td>Date:        Wed, 21 Aug 2002 10:54:46 -05...</td>\n",
       "      <td>1653</td>\n",
       "    </tr>\n",
       "    <tr>\n",
       "      <th>c:/Users/jangn/CODE/sundog_DataScience/DataScience/DataScience-Python3/emails/ham\\00002.9c4069e25e1ef370c078db7ee85ff9ac</th>\n",
       "      <td>ham</td>\n",
       "      <td>Martin A posted:\\n\\nTassos Papadopoulos, the G...</td>\n",
       "      <td>924</td>\n",
       "    </tr>\n",
       "    <tr>\n",
       "      <th>c:/Users/jangn/CODE/sundog_DataScience/DataScience/DataScience-Python3/emails/ham\\00003.860e3c3cee1b42ead714c5c874fe25f7</th>\n",
       "      <td>ham</td>\n",
       "      <td>Man Threatens Explosion In Moscow \\n\\n\\n\\nThur...</td>\n",
       "      <td>1788</td>\n",
       "    </tr>\n",
       "    <tr>\n",
       "      <th>c:/Users/jangn/CODE/sundog_DataScience/DataScience/DataScience-Python3/emails/ham\\00004.864220c5b6930b209cc287c361c99af1</th>\n",
       "      <td>ham</td>\n",
       "      <td>Klez: The Virus That Won't Die\\n\\n \\n\\nAlready...</td>\n",
       "      <td>1158</td>\n",
       "    </tr>\n",
       "    <tr>\n",
       "      <th>c:/Users/jangn/CODE/sundog_DataScience/DataScience/DataScience-Python3/emails/ham\\00005.bf27cdeaf0b8c4647ecd61b1d09da613</th>\n",
       "      <td>ham</td>\n",
       "      <td>&gt;  in adding cream to spaghetti carbonara, whi...</td>\n",
       "      <td>1082</td>\n",
       "    </tr>\n",
       "  </tbody>\n",
       "</table>\n",
       "</div>"
      ],
      "text/plain": [
       "                                                   class  \\\n",
       "c:/Users/jangn/CODE/sundog_DataScience/DataScie...   ham   \n",
       "c:/Users/jangn/CODE/sundog_DataScience/DataScie...   ham   \n",
       "c:/Users/jangn/CODE/sundog_DataScience/DataScie...   ham   \n",
       "c:/Users/jangn/CODE/sundog_DataScience/DataScie...   ham   \n",
       "c:/Users/jangn/CODE/sundog_DataScience/DataScie...   ham   \n",
       "\n",
       "                                                                                              message  \\\n",
       "c:/Users/jangn/CODE/sundog_DataScience/DataScie...      Date:        Wed, 21 Aug 2002 10:54:46 -05...   \n",
       "c:/Users/jangn/CODE/sundog_DataScience/DataScie...  Martin A posted:\\n\\nTassos Papadopoulos, the G...   \n",
       "c:/Users/jangn/CODE/sundog_DataScience/DataScie...  Man Threatens Explosion In Moscow \\n\\n\\n\\nThur...   \n",
       "c:/Users/jangn/CODE/sundog_DataScience/DataScie...  Klez: The Virus That Won't Die\\n\\n \\n\\nAlready...   \n",
       "c:/Users/jangn/CODE/sundog_DataScience/DataScie...  >  in adding cream to spaghetti carbonara, whi...   \n",
       "\n",
       "                                                    length  \n",
       "c:/Users/jangn/CODE/sundog_DataScience/DataScie...    1653  \n",
       "c:/Users/jangn/CODE/sundog_DataScience/DataScie...     924  \n",
       "c:/Users/jangn/CODE/sundog_DataScience/DataScie...    1788  \n",
       "c:/Users/jangn/CODE/sundog_DataScience/DataScie...    1158  \n",
       "c:/Users/jangn/CODE/sundog_DataScience/DataScie...    1082  "
      ]
     },
     "execution_count": 8,
     "metadata": {},
     "output_type": "execute_result"
    }
   ],
   "source": [
    "ham_emails.head()\n",
    "#ham_emails.sort_values(by = ['class', 'length'], ascending = True)"
   ]
  },
  {
   "cell_type": "markdown",
   "metadata": {
    "deletable": true,
    "editable": true
   },
   "source": [
    "To see how well our classifier works, we split the data into Train and Test sets, starting with 80% Train, 20% Test -split. The printout shows the split in number of emails and columns for each data set."
   ]
  },
  {
   "cell_type": "code",
   "execution_count": 9,
   "metadata": {
    "collapsed": false,
    "deletable": true,
    "editable": true
   },
   "outputs": [
    {
     "name": "stdout",
     "output_type": "stream",
     "text": [
      "(2400, 3) (600, 3) (3000, 3)\n"
     ]
    }
   ],
   "source": [
    "trainData, testData = train_test_split(data, test_size = 0.20) \n",
    "#A function in scikit learn splitting your data into random train and test subsets\n",
    "\n",
    "print (trainData.shape, testData.shape, data.shape) \n",
    "#Shows number of data points in each set and nr of columns = 2; class & message"
   ]
  },
  {
   "cell_type": "markdown",
   "metadata": {
    "collapsed": true,
    "deletable": true,
    "editable": true
   },
   "source": [
    "To perform Naive Bayes on the data we have we use MultinomialNB() function from scikit-learn. <br>Since we split the data into a Train and Test set, the vectorizer- and classifier -part below is for the Training data. "
   ]
  },
  {
   "cell_type": "code",
   "execution_count": 10,
   "metadata": {
    "collapsed": false,
    "deletable": true,
    "editable": true
   },
   "outputs": [
    {
     "data": {
      "text/plain": [
       "MultinomialNB(alpha=1.0, class_prior=None, fit_prior=True)"
      ]
     },
     "execution_count": 10,
     "metadata": {},
     "output_type": "execute_result"
    }
   ],
   "source": [
    "trainDatavectorizer = CountVectorizer() \n",
    "#Converts a collection of text docs into a matrix of token counts/numericals.\n",
    "\n",
    "trainDatacounts = trainDatavectorizer.fit_transform(trainData['message'].values) \n",
    "#Makes the words in emails into numbers and then lists the number of times each word occurs in the email\n",
    "#trainvectorizer.fit_transform converts individual words into numbers/values\n",
    "#fit_transform() is a function calibrating your measurement so, that training data and test data have similar shape\n",
    "\n",
    "trainDataclassifier = MultinomialNB()\n",
    "trainDatatargets = trainData['class'].values \n",
    "#data on which emails in the file are spam and ham\n",
    "\n",
    "trainDataclassifier.fit(trainDatacounts, trainDatatargets)\n",
    "#creates a model using NB predicting if new email id spam or ham, based on info we've given it!\n",
    "\n",
    "#print(trainDatatargets) # Not activated here, but shows a list 0f which class each message belongs to\n",
    "#print(trainDatacounts) #Not activated here, but 1st nr is the nth email in Train data (=2999 emails total), \n",
    "#2nd is the code given to a word, 3rd is the frequency of this word in the email. \n"
   ]
  },
  {
   "cell_type": "markdown",
   "metadata": {
    "deletable": true,
    "editable": true
   },
   "source": [
    "Next, also the Test data is \"vectorized\". "
   ]
  },
  {
   "cell_type": "code",
   "execution_count": 11,
   "metadata": {
    "collapsed": false,
    "deletable": true,
    "editable": true
   },
   "outputs": [
    {
     "name": "stdout",
     "output_type": "stream",
     "text": [
      "[0.95333333333333337]\n"
     ]
    }
   ],
   "source": [
    "from sklearn import metrics\n",
    "\n",
    "testDatacounts = trainDatavectorizer.transform(testData['message'].values)\n",
    "#transforms messages to list of words and their frequencies in message\n",
    "\n",
    "testDatapredictions = trainDataclassifier.predict(testDatacounts) \n",
    "#predict() function on classifier to see if result spam or ham\n",
    "\n",
    "tdr = [(metrics.accuracy_score(testData['class'].values,testDatapredictions))]\n",
    "#Shows the accuracy of the model to recognize spam in the Test data set, on a scale of 0-1.\n",
    "\n",
    "print (tdr) #These results after running this cell were added to the four train_test_ -lists to get the line graphics below."
   ]
  },
  {
   "cell_type": "code",
   "execution_count": 147,
   "metadata": {
    "collapsed": false,
    "deletable": true,
    "editable": true
   },
   "outputs": [
    {
     "data": {
      "image/png": "[encoded data removed]",
      "text/plain": [
       "<matplotlib.figure.Figure at 0x281538040f0>"
      ]
     },
     "metadata": {},
     "output_type": "display_data"
    }
   ],
   "source": [
    "\n",
    "train_test_8020 = [0.95, 0.948333333333, 0.943333333333, 0.953333333333, 0.975, 0.961666666667, 0.948333333333, 0.97, 0.951666666667, 0.961666666667,0.956666666667, 0.941666666667, 0.973333333333, 0.961666666667, 0.966666666667, 0.936666666667, 0.963333333333, 0.953333333333, 0.93, 0.961666666667,  0.961666666667]\n",
    "train_test_8020.sort()\n",
    "\n",
    "train_test_7030 = [0.95, 0.961111111111, 0.956666666667, 0.96, 0.951111111111, 0.96, 0.962222222222, 0.953333333333, 0.954444444444, 0.96, 0.941111111111,0.954444444444,  0.958888888889,  0.953333333333, 0.953333333333, 0.956666666667, 0.958888888889, 0.941111111111, 0.967777777778, 0.968888888889, 0.952222222222]\n",
    "train_test_7030.sort()\n",
    "\n",
    "train_test_6040 = [0.953333333333, 0.953333333333, 0.935833333333, 0.955, 0.955, 0.948333333333, 0.951666666667, 0.9525, 0.951666666667, 0.95 , 0.956666666667, 0.9475, 0.954166666667, 0.939166666667, 0.9475, 0.948333333333, 0.955, 0.9575, 0.9475, 0.9475, 0.959166666667  ]\n",
    "train_test_6040.sort()\n",
    "\n",
    "train_test_1090 = [0.924444444444,  0.956296296296, 0.948148148148, 0.941111111111 ,0.948518518519, 0.946296296296, 0.924814814815, 0.923703703704, 0.922592592593,   0.951111111111, 0.924814814815, 0.924444444444,0.942592592593, 0.954074074074, 0.935185185185, 0.922962962963, 0.93037037037, 0.934074074074, 0.940740740741, 0.93962962963 , 0.954814814815 ]\n",
    "train_test_1090.sort();\n",
    "\n",
    "plt.plot(train_test_8020)\n",
    "plt.plot(train_test_7030)\n",
    "plt.plot(train_test_6040)\n",
    "plt.plot(train_test_1090)\n",
    "plt.legend(['Train/Test 80/20', 'Train/Test 70/30', 'Train/Test 60/40', 'Train/Test 10/90'], loc=2)\n",
    "plt.xlabel('Sorted by accuracy in the samples; from lowest predictions to highest')\n",
    "plt.ylabel('Prediction accuracy')\n",
    "plt.title('Predictions of spam')\n",
    "\n",
    "fig_size = plt.rcParams[\"figure.figsize\"]\n",
    "fig_size[0] =16.0\n",
    "fig_size[1] = 8.0\n",
    "plt.rcParams[\"figure.figsize\"] = fig_size\n",
    "plt.grid(True)\n",
    "plt.show();\n"
   ]
  },
  {
   "cell_type": "markdown",
   "metadata": {
    "deletable": true,
    "editable": true
   },
   "source": [
    "Show averages of prediction accuracies"
   ]
  },
  {
   "cell_type": "code",
   "execution_count": 13,
   "metadata": {
    "collapsed": false,
    "deletable": true,
    "editable": true
   },
   "outputs": [
    {
     "data": {
      "image/png": "[encoded data removed]",
      "text/plain": [
       "<matplotlib.figure.Figure at 0x281539b46d8>"
      ]
     },
     "metadata": {},
     "output_type": "display_data"
    }
   ],
   "source": [
    "avg_8020 = mean(train_test_8020)\n",
    "avg_7030 = mean(train_test_7030)\n",
    "avg_6040 = mean(train_test_6040)\n",
    "avg_1090 = mean(train_test_1090)\n",
    "\n",
    "Avg_predictions = [avg_8020, avg_7030, avg_6040, avg_1090]\n",
    "colors = ['green', 'orange', 'blue', 'red']\n",
    "\n",
    "axes = plt.axes()\n",
    "#axes.set_xlim([0,1])\n",
    "axes.set_ylim([0.93, 0.96])\n",
    "#axes.set_xticks([])\n",
    "\n",
    "plt.plot(avg_8020,'green')\n",
    "plt.plot(avg_7030, 'orange')\n",
    "plt.plot(avg_6040, 'blue')\n",
    "plt.plot(avg_1090, 'red')\n",
    "plt.legend(['80/20', '70/30', '60/40', '10/90'], loc=1)\n",
    "plt.xlabel('Various Train/Test -splits')\n",
    "plt.ylabel('Averaging prediction accuracy')\n",
    "plt.title('Comparing results')\n",
    "my_xticks = ['70/30', '60/40', '10/90',]\n",
    "#plt.xticks(x,my_xticks)\n",
    "\n",
    "fig_size = plt.rcParams[\"figure.figsize\"] #gets current size\n",
    " \n",
    "#print (fig_size) #print the current size, then set your own width (below)\n",
    "\n",
    "fig_size[0] =16.0\n",
    "fig_size[1] = 6.0\n",
    "plt.rcParams[\"figure.figsize\"] = fig_size\n",
    "\n",
    "plt.bar(range(0,4), Avg_predictions, color = colors)\n",
    "plt.grid(True)\n",
    "plt.show()"
   ]
  },
  {
   "cell_type": "markdown",
   "metadata": {
    "deletable": true,
    "editable": true
   },
   "source": [
    "Aggregate statistics:"
   ]
  },
  {
   "cell_type": "markdown",
   "metadata": {
    "deletable": true,
    "editable": true
   },
   "source": [
    "Next, Histograms showing the lengths in words of the emails; all, spam and ham. <br>**Please note!** Biggest outliers, i.e. message sizes 10.000+ words, have been omitted to preserve readability."
   ]
  },
  {
   "cell_type": "code",
   "execution_count": 148,
   "metadata": {
    "collapsed": false,
    "deletable": true,
    "editable": true
   },
   "outputs": [
    {
     "data": {
      "image/png": "[encoded data removed]",
      "text/plain": [
       "<matplotlib.figure.Figure at 0x28153db4d68>"
      ]
     },
     "metadata": {},
     "output_type": "display_data"
    },
    {
     "data": {
      "image/png": "[encoded data removed]",
      "text/plain": [
       "<matplotlib.figure.Figure at 0x28157c5e940>"
      ]
     },
     "metadata": {},
     "output_type": "display_data"
    },
    {
     "data": {
      "image/png": "[encoded data removed]",
      "text/plain": [
       "<matplotlib.figure.Figure at 0x28157c79358>"
      ]
     },
     "metadata": {},
     "output_type": "display_data"
    }
   ],
   "source": [
    "fig_size[0] =16.0\n",
    "fig_size[1] = 4.0\n",
    "plt.rcParams[\"figure.figsize\"] = fig_size;\n",
    "\n",
    "data.plot(bins=6000, kind='hist')\n",
    "plt.title('All emails')\n",
    "axes=plt.axes()\n",
    "axes.set_xlim([-200,10000]);\n",
    "plt.xlabel('Wordcount in all emails')\n",
    "plt.ylabel('Number of emails')\n",
    "\n",
    "spam_emails.plot(bins=9000, kind='hist')\n",
    "plt.title('Spam emails')\n",
    "axes=plt.axes()\n",
    "axes.set_xlim([-200,10000]);\n",
    "plt.xlabel('Wordcount in spam emails')\n",
    "plt.ylabel('Number of emails')\n",
    "\n",
    "ham_emails.plot(bins=3000, kind= 'hist')\n",
    "plt.title('Ham emails')\n",
    "axes=plt.axes()\n",
    "axes.set_xlim([-200,10000]);\n",
    "plt.xlabel('Wordcount in ham emails')\n",
    "plt.ylabel('Number of emails');"
   ]
  },
  {
   "cell_type": "code",
   "execution_count": 118,
   "metadata": {
    "collapsed": false,
    "deletable": true,
    "editable": true,
    "scrolled": true
   },
   "outputs": [
    {
     "name": "stdout",
     "output_type": "stream",
     "text": [
      "count      3000.000000\n",
      "mean       2196.253333\n",
      "std        7378.845770\n",
      "min          54.000000\n",
      "25%         526.000000\n",
      "50%        1025.000000\n",
      "75%        1857.000000\n",
      "max      234358.000000\n",
      "Name: length, dtype: float64\n"
     ]
    }
   ],
   "source": [
    "data2=data.length.describe()\n",
    "print(data2)\n",
    "df_data= pd.DataFrame(data2[0:7]) # let's leave 'max' out from data frame to avoid distortion in the graph\n",
    "df_data.columns = ['all emails']\n",
    "#df_data.head(7)\n"
   ]
  },
  {
   "cell_type": "code",
   "execution_count": 138,
   "metadata": {
    "collapsed": false
   },
   "outputs": [
    {
     "data": {
      "image/png": "[encoded data removed]",
      "text/plain": [
       "<matplotlib.figure.Figure at 0x2815c9f4b00>"
      ]
     },
     "metadata": {},
     "output_type": "display_data"
    }
   ],
   "source": [
    "df_data.plot( kind=\"bar\", title='All emails',\n",
    "                 figsize=(16,4), color='orange',\n",
    "                 stacked=True);"
   ]
  },
  {
   "cell_type": "code",
   "execution_count": 141,
   "metadata": {
    "collapsed": false,
    "deletable": true,
    "editable": true
   },
   "outputs": [
    {
     "name": "stdout",
     "output_type": "stream",
     "text": [
      "count       500.000000\n",
      "mean       5746.968000\n",
      "std       15861.429791\n",
      "min          65.000000\n",
      "25%        1082.000000\n",
      "50%        2578.500000\n",
      "75%        5619.750000\n",
      "max      234358.000000\n",
      "Name: length, dtype: float64\n"
     ]
    }
   ],
   "source": [
    "spam2=spam_emails.length.describe()\n",
    "print(spam2)\n",
    "df_spam2= pd.DataFrame(spam2[0:7]) # let's leave 'max' out from data frame to avoid distortion in the graph\n",
    "df_spam2.columns = ['spam']\n",
    "#df_spam2.head(7)"
   ]
  },
  {
   "cell_type": "code",
   "execution_count": 142,
   "metadata": {
    "collapsed": false
   },
   "outputs": [
    {
     "data": {
      "image/png": "[encoded data removed]",
      "text/plain": [
       "<matplotlib.figure.Figure at 0x28153ed1a20>"
      ]
     },
     "metadata": {},
     "output_type": "display_data"
    }
   ],
   "source": [
    "df_spam2.plot( kind=\"bar\", title='Spam emails',\n",
    "                 figsize=(16,4), color='red',\n",
    "                 stacked=True);"
   ]
  },
  {
   "cell_type": "code",
   "execution_count": 143,
   "metadata": {
    "collapsed": false,
    "deletable": true,
    "editable": true
   },
   "outputs": [
    {
     "name": "stdout",
     "output_type": "stream",
     "text": [
      "count     2500.000000\n",
      "mean      1486.110400\n",
      "std       3475.300719\n",
      "min         54.000000\n",
      "25%        459.750000\n",
      "50%        899.000000\n",
      "75%       1567.500000\n",
      "max      89733.000000\n",
      "Name: length, dtype: float64\n"
     ]
    }
   ],
   "source": [
    "ham2=ham_emails.length.describe()\n",
    "print(ham2)\n",
    "df_ham2= pd.DataFrame(ham2[0:7]) # let's leave 'max' out from data frame to avoid distortion in the graph\n",
    "df_ham2.columns = ['ham']\n",
    "#df_ham2.head(7)"
   ]
  },
  {
   "cell_type": "code",
   "execution_count": 145,
   "metadata": {
    "collapsed": false
   },
   "outputs": [
    {
     "data": {
      "image/png": "[encoded data removed]",
      "text/plain": [
       "<matplotlib.figure.Figure at 0x281537d9908>"
      ]
     },
     "metadata": {},
     "output_type": "display_data"
    }
   ],
   "source": [
    "df_ham2.plot( kind=\"bar\", title='Ham emails',\n",
    "                 figsize=(16,4), color='green',\n",
    "                 stacked=True);"
   ]
  },
  {
   "cell_type": "markdown",
   "metadata": {},
   "source": [
    "Let's combine all graphs of email lengths into one combined.  "
   ]
  },
  {
   "cell_type": "code",
   "execution_count": 114,
   "metadata": {
    "collapsed": false
   },
   "outputs": [
    {
     "data": {
      "text/html": [
       "<div>\n",
       "<table border=\"1\" class=\"dataframe\">\n",
       "  <thead>\n",
       "    <tr style=\"text-align: right;\">\n",
       "      <th></th>\n",
       "      <th>all emails</th>\n",
       "      <th>spam</th>\n",
       "      <th>ham</th>\n",
       "    </tr>\n",
       "  </thead>\n",
       "  <tbody>\n",
       "    <tr>\n",
       "      <th>count</th>\n",
       "      <td>3000.000000</td>\n",
       "      <td>500.000000</td>\n",
       "      <td>2500.000000</td>\n",
       "    </tr>\n",
       "    <tr>\n",
       "      <th>mean</th>\n",
       "      <td>2196.253333</td>\n",
       "      <td>5746.968000</td>\n",
       "      <td>1486.110400</td>\n",
       "    </tr>\n",
       "    <tr>\n",
       "      <th>std</th>\n",
       "      <td>7378.845770</td>\n",
       "      <td>15861.429791</td>\n",
       "      <td>3475.300719</td>\n",
       "    </tr>\n",
       "    <tr>\n",
       "      <th>min</th>\n",
       "      <td>54.000000</td>\n",
       "      <td>65.000000</td>\n",
       "      <td>54.000000</td>\n",
       "    </tr>\n",
       "    <tr>\n",
       "      <th>25%</th>\n",
       "      <td>526.000000</td>\n",
       "      <td>1082.000000</td>\n",
       "      <td>459.750000</td>\n",
       "    </tr>\n",
       "    <tr>\n",
       "      <th>50%</th>\n",
       "      <td>1025.000000</td>\n",
       "      <td>2578.500000</td>\n",
       "      <td>899.000000</td>\n",
       "    </tr>\n",
       "    <tr>\n",
       "      <th>75%</th>\n",
       "      <td>1857.000000</td>\n",
       "      <td>5619.750000</td>\n",
       "      <td>1567.500000</td>\n",
       "    </tr>\n",
       "  </tbody>\n",
       "</table>\n",
       "</div>"
      ],
      "text/plain": [
       "        all emails          spam          ham\n",
       "count  3000.000000    500.000000  2500.000000\n",
       "mean   2196.253333   5746.968000  1486.110400\n",
       "std    7378.845770  15861.429791  3475.300719\n",
       "min      54.000000     65.000000    54.000000\n",
       "25%     526.000000   1082.000000   459.750000\n",
       "50%    1025.000000   2578.500000   899.000000\n",
       "75%    1857.000000   5619.750000  1567.500000"
      ]
     },
     "execution_count": 114,
     "metadata": {},
     "output_type": "execute_result"
    }
   ],
   "source": [
    "frames = [df_data, df_spam2, df_ham2]\n",
    "result = pd.concat(frames, axis=1) # without 'axis=1' dataframes are on top of each other, not next to each other\n",
    "#print(result)\n",
    "df_combined = pd.DataFrame(result)\n",
    "\n",
    "df_combined.head(21)"
   ]
  },
  {
   "cell_type": "code",
   "execution_count": 110,
   "metadata": {
    "collapsed": false
   },
   "outputs": [
    {
     "data": {
      "image/png": "[encoded data removed]",
      "text/plain": [
       "<matplotlib.figure.Figure at 0x281693139e8>"
      ]
     },
     "metadata": {},
     "output_type": "display_data"
    }
   ],
   "source": [
    "df_combined.plot( kind=\"bar\", \n",
    "                 figsize=(16,6),color=['orange','red','green'],\n",
    "                 stacked=False);"
   ]
  },
  {
   "cell_type": "markdown",
   "metadata": {
    "deletable": true,
    "editable": true
   },
   "source": [
    "## Conclusions\n",
    "Our data set is small, so our spam classifier isn't actually very good. Around 95% success rate at best filering out the spam. Even cutting the training data to only 10% of the emails (300), the success rate fell only by a couple of percentage points. A larger data set would be needed to put the classifier to a real test.<br><br>\n",
    "Analysing the sizes of the emails might also reveal more with a larger data set. Are spam emails on average longer (*mean*) and with a wider variation in their sizes (*std*)? At least this is what our data seems to indicate. If so, perhaps these features could be useful in classifying emails with larger data samples?"
   ]
  }
 ],
 "metadata": {
  "kernelspec": {
   "display_name": "Python 3",
   "language": "python",
   "name": "python3"
  },
  "language_info": {
   "codemirror_mode": {
    "name": "ipython",
    "version": 3
   },
   "file_extension": ".py",
   "mimetype": "text/x-python",
   "name": "python",
   "nbconvert_exporter": "python",
   "pygments_lexer": "ipython3",
   "version": "3.5.2"
  }
 },
 "nbformat": 4,
 "nbformat_minor": 0
}
